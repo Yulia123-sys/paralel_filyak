{
  "nbformat": 4,
  "nbformat_minor": 0,
  "metadata": {
    "colab": {
      "name": "pr1.ipynb",
      "provenance": []
    },
    "kernelspec": {
      "name": "python3",
      "display_name": "Python 3"
    }
  },
  "cells": [
    {
      "cell_type": "code",
      "metadata": {
        "colab": {
          "base_uri": "https://localhost:8080/"
        },
        "id": "HajuDChnejV4",
        "outputId": "81ed0c0e-c5f1-4214-ee68-618634cd0115"
      },
      "source": [
        "#yulia_kharuk\r\n",
        "import pandas as pd\r\n",
        "import requests\r\n",
        "\r\n",
        "from tqdm import tqdm\r\n",
        "tqdm.pandas()\r\n",
        "\r\n",
        "from pandarallel import pandarallel\r\n",
        "pandarallel.initialize(progress_bar=True)\r\n"
      ],
      "execution_count": 6,
      "outputs": [
        {
          "output_type": "stream",
          "text": [
            "INFO: Pandarallel will run on 2 workers.\n",
            "INFO: Pandarallel will use Memory file system to transfer data between the main process and workers.\n"
          ],
          "name": "stdout"
        },
        {
          "output_type": "stream",
          "text": [
            "/usr/local/lib/python3.7/dist-packages/tqdm/std.py:658: FutureWarning: The Panel class is removed from pandas. Accessing it from the top-level namespace will also be removed in the next version\n",
            "  from pandas import Panel\n"
          ],
          "name": "stderr"
        }
      ]
    },
    {
      "cell_type": "code",
      "metadata": {
        "colab": {
          "base_uri": "https://localhost:8080/",
          "height": 1000
        },
        "id": "snIVjOLPfWxr",
        "outputId": "7425f867-cb20-4d63-8d90-17dec6295c44"
      },
      "source": [
        "df = pd.DataFrame(\r\n",
        "    [i for i in range(100)],\r\n",
        "    columns=[\"sample_column\"]\r\n",
        ")\r\n",
        "def function_to_apply(i):\r\n",
        "    r = requests.get(f'https://random-word-api.herokuapp.com/word').json()\r\n",
        "\r\n",
        "    return r[0]\r\n",
        "df[\"sample-word\"] = df.sample_column.progress_apply(function_to_apply)"
      ],
      "execution_count": 7,
      "outputs": [
        {
          "output_type": "stream",
          "text": [
            "\n",
            "  0%|          | 0/100 [00:00<?, ?it/s]\u001b[A\n",
            "  2%|▏         | 2/100 [00:00<00:06, 14.42it/s]\u001b[A\n",
            "  3%|▎         | 3/100 [00:00<00:09, 10.36it/s]\u001b[A\n",
            "  4%|▍         | 4/100 [00:00<00:10,  9.33it/s]\u001b[A\n",
            "  5%|▌         | 5/100 [00:00<00:11,  8.49it/s]\u001b[A\n",
            "  6%|▌         | 6/100 [00:00<00:11,  7.95it/s]\u001b[A\n",
            "  7%|▋         | 7/100 [00:00<00:12,  7.50it/s]\u001b[A\n",
            "  8%|▊         | 8/100 [00:01<00:12,  7.49it/s]\u001b[A\n",
            "  9%|▉         | 9/100 [00:01<00:12,  7.58it/s]\u001b[A\n",
            " 10%|█         | 10/100 [00:01<00:12,  7.19it/s]\u001b[A\n",
            " 11%|█         | 11/100 [00:01<00:12,  7.31it/s]\u001b[A\n",
            " 12%|█▏        | 12/100 [00:01<00:12,  6.95it/s]\u001b[A\n",
            " 13%|█▎        | 13/100 [00:01<00:12,  7.05it/s]\u001b[A\n",
            " 14%|█▍        | 14/100 [00:01<00:12,  7.03it/s]\u001b[A\n",
            " 15%|█▌        | 15/100 [00:02<00:12,  6.75it/s]\u001b[A\n",
            " 16%|█▌        | 16/100 [00:02<00:12,  6.71it/s]\u001b[A\n",
            " 17%|█▋        | 17/100 [00:02<00:11,  6.92it/s]\u001b[A\n",
            " 18%|█▊        | 18/100 [00:02<00:11,  7.00it/s]\u001b[A\n",
            " 19%|█▉        | 19/100 [00:02<00:12,  6.68it/s]\u001b[A\n",
            " 20%|██        | 20/100 [00:02<00:11,  6.68it/s]\u001b[A\n",
            " 21%|██        | 21/100 [00:02<00:11,  6.70it/s]\u001b[A\n",
            " 22%|██▏       | 22/100 [00:03<00:11,  6.65it/s]\u001b[A\n",
            " 23%|██▎       | 23/100 [00:03<00:11,  6.83it/s]\u001b[A\n",
            " 24%|██▍       | 24/100 [00:03<00:11,  6.84it/s]\u001b[A\n",
            " 25%|██▌       | 25/100 [00:03<00:11,  6.71it/s]\u001b[A\n",
            " 26%|██▌       | 26/100 [00:03<00:10,  6.88it/s]\u001b[A\n",
            " 27%|██▋       | 27/100 [00:03<00:10,  6.89it/s]\u001b[A\n",
            " 28%|██▊       | 28/100 [00:03<00:10,  7.10it/s]\u001b[A\n",
            " 29%|██▉       | 29/100 [00:04<00:10,  6.69it/s]\u001b[A\n",
            " 30%|███       | 30/100 [00:04<00:10,  6.96it/s]\u001b[A\n",
            " 31%|███       | 31/100 [00:04<00:09,  7.09it/s]\u001b[A\n",
            " 32%|███▏      | 32/100 [00:04<00:09,  7.17it/s]\u001b[A\n",
            " 33%|███▎      | 33/100 [00:04<00:09,  7.37it/s]\u001b[A\n",
            " 34%|███▍      | 34/100 [00:04<00:09,  7.04it/s]\u001b[A\n",
            " 35%|███▌      | 35/100 [00:04<00:08,  7.23it/s]\u001b[A\n",
            " 36%|███▌      | 36/100 [00:05<00:08,  7.15it/s]\u001b[A\n",
            " 37%|███▋      | 37/100 [00:05<00:08,  7.33it/s]\u001b[A\n",
            " 38%|███▊      | 38/100 [00:05<00:08,  7.31it/s]\u001b[A\n",
            " 39%|███▉      | 39/100 [00:05<00:08,  7.06it/s]\u001b[A\n",
            " 40%|████      | 40/100 [00:05<00:08,  7.26it/s]\u001b[A\n",
            " 41%|████      | 41/100 [00:05<00:08,  7.24it/s]\u001b[A\n",
            " 42%|████▏     | 42/100 [00:05<00:07,  7.43it/s]\u001b[A\n",
            " 43%|████▎     | 43/100 [00:05<00:07,  7.55it/s]\u001b[A\n",
            " 44%|████▍     | 44/100 [00:06<00:07,  7.35it/s]\u001b[A\n",
            " 45%|████▌     | 45/100 [00:06<00:07,  7.49it/s]\u001b[A\n",
            " 46%|████▌     | 46/100 [00:06<00:07,  7.31it/s]\u001b[A\n",
            " 47%|████▋     | 47/100 [00:06<00:07,  7.17it/s]\u001b[A\n",
            " 48%|████▊     | 48/100 [00:06<00:07,  7.22it/s]\u001b[A\n",
            " 49%|████▉     | 49/100 [00:06<00:06,  7.34it/s]\u001b[A\n",
            " 50%|█████     | 50/100 [00:06<00:06,  7.29it/s]\u001b[A\n",
            " 51%|█████     | 51/100 [00:07<00:06,  7.17it/s]\u001b[A\n",
            " 52%|█████▏    | 52/100 [00:07<00:06,  7.25it/s]\u001b[A\n",
            " 53%|█████▎    | 53/100 [00:07<00:06,  7.17it/s]\u001b[A\n",
            " 54%|█████▍    | 54/100 [00:07<00:06,  7.27it/s]\u001b[A\n",
            " 55%|█████▌    | 55/100 [00:07<00:06,  7.32it/s]\u001b[A\n",
            " 56%|█████▌    | 56/100 [00:07<00:06,  7.27it/s]\u001b[A\n",
            " 57%|█████▋    | 57/100 [00:07<00:05,  7.52it/s]\u001b[A\n",
            " 58%|█████▊    | 58/100 [00:08<00:05,  7.46it/s]\u001b[A\n",
            " 59%|█████▉    | 59/100 [00:08<00:05,  7.44it/s]\u001b[A\n",
            " 60%|██████    | 60/100 [00:08<00:05,  7.47it/s]\u001b[A\n",
            " 61%|██████    | 61/100 [00:08<00:05,  7.53it/s]\u001b[A\n",
            " 62%|██████▏   | 62/100 [00:08<00:05,  7.53it/s]\u001b[A\n",
            " 63%|██████▎   | 63/100 [00:08<00:05,  7.40it/s]\u001b[A\n",
            " 64%|██████▍   | 64/100 [00:08<00:05,  7.15it/s]\u001b[A\n",
            " 65%|██████▌   | 65/100 [00:09<00:05,  6.70it/s]\u001b[A\n",
            " 66%|██████▌   | 66/100 [00:09<00:05,  6.79it/s]\u001b[A\n",
            " 67%|██████▋   | 67/100 [00:09<00:04,  6.99it/s]\u001b[A\n",
            " 68%|██████▊   | 68/100 [00:09<00:04,  6.73it/s]\u001b[A\n",
            " 69%|██████▉   | 69/100 [00:09<00:04,  6.93it/s]\u001b[A\n",
            " 70%|███████   | 70/100 [00:09<00:04,  6.83it/s]\u001b[A\n",
            " 71%|███████   | 71/100 [00:09<00:04,  6.83it/s]\u001b[A\n",
            " 72%|███████▏  | 72/100 [00:10<00:04,  6.90it/s]\u001b[A\n",
            " 73%|███████▎  | 73/100 [00:10<00:03,  7.09it/s]\u001b[A\n",
            " 74%|███████▍  | 74/100 [00:10<00:03,  7.09it/s]\u001b[A\n",
            " 75%|███████▌  | 75/100 [00:10<00:03,  7.09it/s]\u001b[A\n",
            " 76%|███████▌  | 76/100 [00:10<00:03,  6.94it/s]\u001b[A\n",
            " 77%|███████▋  | 77/100 [00:10<00:03,  6.51it/s]\u001b[A\n",
            " 78%|███████▊  | 78/100 [00:10<00:03,  6.28it/s]\u001b[A\n",
            " 79%|███████▉  | 79/100 [00:11<00:03,  6.55it/s]\u001b[A"
          ],
          "name": "stderr"
        },
        {
          "output_type": "error",
          "ename": "KeyError",
          "evalue": "ignored",
          "traceback": [
            "\u001b[0;31m---------------------------------------------------------------------------\u001b[0m",
            "\u001b[0;31mKeyError\u001b[0m                                  Traceback (most recent call last)",
            "\u001b[0;32m<ipython-input-7-6236c76b1e88>\u001b[0m in \u001b[0;36m<module>\u001b[0;34m()\u001b[0m\n\u001b[1;32m      7\u001b[0m \u001b[0;34m\u001b[0m\u001b[0m\n\u001b[1;32m      8\u001b[0m     \u001b[0;32mreturn\u001b[0m \u001b[0mr\u001b[0m\u001b[0;34m[\u001b[0m\u001b[0;36m0\u001b[0m\u001b[0;34m]\u001b[0m\u001b[0;34m\u001b[0m\u001b[0;34m\u001b[0m\u001b[0m\n\u001b[0;32m----> 9\u001b[0;31m \u001b[0mdf\u001b[0m\u001b[0;34m[\u001b[0m\u001b[0;34m\"sample-word\"\u001b[0m\u001b[0;34m]\u001b[0m \u001b[0;34m=\u001b[0m \u001b[0mdf\u001b[0m\u001b[0;34m.\u001b[0m\u001b[0msample_column\u001b[0m\u001b[0;34m.\u001b[0m\u001b[0mprogress_apply\u001b[0m\u001b[0;34m(\u001b[0m\u001b[0mfunction_to_apply\u001b[0m\u001b[0;34m)\u001b[0m\u001b[0;34m\u001b[0m\u001b[0;34m\u001b[0m\u001b[0m\n\u001b[0m",
            "\u001b[0;32m/usr/local/lib/python3.7/dist-packages/tqdm/std.py\u001b[0m in \u001b[0;36minner\u001b[0;34m(df, func, *args, **kwargs)\u001b[0m\n\u001b[1;32m    751\u001b[0m                 \u001b[0;31m# Apply the provided function (in **kwargs)\u001b[0m\u001b[0;34m\u001b[0m\u001b[0;34m\u001b[0m\u001b[0;34m\u001b[0m\u001b[0m\n\u001b[1;32m    752\u001b[0m                 \u001b[0;31m# on the df using our wrapper (which provides bar updating)\u001b[0m\u001b[0;34m\u001b[0m\u001b[0;34m\u001b[0m\u001b[0;34m\u001b[0m\u001b[0m\n\u001b[0;32m--> 753\u001b[0;31m                 \u001b[0mresult\u001b[0m \u001b[0;34m=\u001b[0m \u001b[0mgetattr\u001b[0m\u001b[0;34m(\u001b[0m\u001b[0mdf\u001b[0m\u001b[0;34m,\u001b[0m \u001b[0mdf_function\u001b[0m\u001b[0;34m)\u001b[0m\u001b[0;34m(\u001b[0m\u001b[0mwrapper\u001b[0m\u001b[0;34m,\u001b[0m \u001b[0;34m**\u001b[0m\u001b[0mkwargs\u001b[0m\u001b[0;34m)\u001b[0m\u001b[0;34m\u001b[0m\u001b[0;34m\u001b[0m\u001b[0m\n\u001b[0m\u001b[1;32m    754\u001b[0m \u001b[0;34m\u001b[0m\u001b[0m\n\u001b[1;32m    755\u001b[0m                 \u001b[0;31m# Close bar and return pandas calculation result\u001b[0m\u001b[0;34m\u001b[0m\u001b[0;34m\u001b[0m\u001b[0;34m\u001b[0m\u001b[0m\n",
            "\u001b[0;32m/usr/local/lib/python3.7/dist-packages/pandas/core/series.py\u001b[0m in \u001b[0;36mapply\u001b[0;34m(self, func, convert_dtype, args, **kwds)\u001b[0m\n\u001b[1;32m   4211\u001b[0m             \u001b[0;32melse\u001b[0m\u001b[0;34m:\u001b[0m\u001b[0;34m\u001b[0m\u001b[0;34m\u001b[0m\u001b[0m\n\u001b[1;32m   4212\u001b[0m                 \u001b[0mvalues\u001b[0m \u001b[0;34m=\u001b[0m \u001b[0mself\u001b[0m\u001b[0;34m.\u001b[0m\u001b[0mastype\u001b[0m\u001b[0;34m(\u001b[0m\u001b[0mobject\u001b[0m\u001b[0;34m)\u001b[0m\u001b[0;34m.\u001b[0m\u001b[0m_values\u001b[0m\u001b[0;34m\u001b[0m\u001b[0;34m\u001b[0m\u001b[0m\n\u001b[0;32m-> 4213\u001b[0;31m                 \u001b[0mmapped\u001b[0m \u001b[0;34m=\u001b[0m \u001b[0mlib\u001b[0m\u001b[0;34m.\u001b[0m\u001b[0mmap_infer\u001b[0m\u001b[0;34m(\u001b[0m\u001b[0mvalues\u001b[0m\u001b[0;34m,\u001b[0m \u001b[0mf\u001b[0m\u001b[0;34m,\u001b[0m \u001b[0mconvert\u001b[0m\u001b[0;34m=\u001b[0m\u001b[0mconvert_dtype\u001b[0m\u001b[0;34m)\u001b[0m\u001b[0;34m\u001b[0m\u001b[0;34m\u001b[0m\u001b[0m\n\u001b[0m\u001b[1;32m   4214\u001b[0m \u001b[0;34m\u001b[0m\u001b[0m\n\u001b[1;32m   4215\u001b[0m         \u001b[0;32mif\u001b[0m \u001b[0mlen\u001b[0m\u001b[0;34m(\u001b[0m\u001b[0mmapped\u001b[0m\u001b[0;34m)\u001b[0m \u001b[0;32mand\u001b[0m \u001b[0misinstance\u001b[0m\u001b[0;34m(\u001b[0m\u001b[0mmapped\u001b[0m\u001b[0;34m[\u001b[0m\u001b[0;36m0\u001b[0m\u001b[0;34m]\u001b[0m\u001b[0;34m,\u001b[0m \u001b[0mSeries\u001b[0m\u001b[0;34m)\u001b[0m\u001b[0;34m:\u001b[0m\u001b[0;34m\u001b[0m\u001b[0;34m\u001b[0m\u001b[0m\n",
            "\u001b[0;32mpandas/_libs/lib.pyx\u001b[0m in \u001b[0;36mpandas._libs.lib.map_infer\u001b[0;34m()\u001b[0m\n",
            "\u001b[0;32m/usr/local/lib/python3.7/dist-packages/tqdm/std.py\u001b[0m in \u001b[0;36mwrapper\u001b[0;34m(*args, **kwargs)\u001b[0m\n\u001b[1;32m    747\u001b[0m                     \u001b[0;31m# take a fast or slow code path; so stop when t.total==t.n\u001b[0m\u001b[0;34m\u001b[0m\u001b[0;34m\u001b[0m\u001b[0;34m\u001b[0m\u001b[0m\n\u001b[1;32m    748\u001b[0m                     \u001b[0mt\u001b[0m\u001b[0;34m.\u001b[0m\u001b[0mupdate\u001b[0m\u001b[0;34m(\u001b[0m\u001b[0mn\u001b[0m\u001b[0;34m=\u001b[0m\u001b[0;36m1\u001b[0m \u001b[0;32mif\u001b[0m \u001b[0;32mnot\u001b[0m \u001b[0mt\u001b[0m\u001b[0;34m.\u001b[0m\u001b[0mtotal\u001b[0m \u001b[0;32mor\u001b[0m \u001b[0mt\u001b[0m\u001b[0;34m.\u001b[0m\u001b[0mn\u001b[0m \u001b[0;34m<\u001b[0m \u001b[0mt\u001b[0m\u001b[0;34m.\u001b[0m\u001b[0mtotal\u001b[0m \u001b[0;32melse\u001b[0m \u001b[0;36m0\u001b[0m\u001b[0;34m)\u001b[0m\u001b[0;34m\u001b[0m\u001b[0;34m\u001b[0m\u001b[0m\n\u001b[0;32m--> 749\u001b[0;31m                     \u001b[0;32mreturn\u001b[0m \u001b[0mfunc\u001b[0m\u001b[0;34m(\u001b[0m\u001b[0;34m*\u001b[0m\u001b[0margs\u001b[0m\u001b[0;34m,\u001b[0m \u001b[0;34m**\u001b[0m\u001b[0mkwargs\u001b[0m\u001b[0;34m)\u001b[0m\u001b[0;34m\u001b[0m\u001b[0;34m\u001b[0m\u001b[0m\n\u001b[0m\u001b[1;32m    750\u001b[0m \u001b[0;34m\u001b[0m\u001b[0m\n\u001b[1;32m    751\u001b[0m                 \u001b[0;31m# Apply the provided function (in **kwargs)\u001b[0m\u001b[0;34m\u001b[0m\u001b[0;34m\u001b[0m\u001b[0;34m\u001b[0m\u001b[0m\n",
            "\u001b[0;32m<ipython-input-7-6236c76b1e88>\u001b[0m in \u001b[0;36mfunction_to_apply\u001b[0;34m(i)\u001b[0m\n\u001b[1;32m      6\u001b[0m     \u001b[0mr\u001b[0m \u001b[0;34m=\u001b[0m \u001b[0mrequests\u001b[0m\u001b[0;34m.\u001b[0m\u001b[0mget\u001b[0m\u001b[0;34m(\u001b[0m\u001b[0;34mf'https://random-word-api.herokuapp.com/word'\u001b[0m\u001b[0;34m)\u001b[0m\u001b[0;34m.\u001b[0m\u001b[0mjson\u001b[0m\u001b[0;34m(\u001b[0m\u001b[0;34m)\u001b[0m\u001b[0;34m\u001b[0m\u001b[0;34m\u001b[0m\u001b[0m\n\u001b[1;32m      7\u001b[0m \u001b[0;34m\u001b[0m\u001b[0m\n\u001b[0;32m----> 8\u001b[0;31m     \u001b[0;32mreturn\u001b[0m \u001b[0mr\u001b[0m\u001b[0;34m[\u001b[0m\u001b[0;36m0\u001b[0m\u001b[0;34m]\u001b[0m\u001b[0;34m\u001b[0m\u001b[0;34m\u001b[0m\u001b[0m\n\u001b[0m\u001b[1;32m      9\u001b[0m \u001b[0mdf\u001b[0m\u001b[0;34m[\u001b[0m\u001b[0;34m\"sample-word\"\u001b[0m\u001b[0;34m]\u001b[0m \u001b[0;34m=\u001b[0m \u001b[0mdf\u001b[0m\u001b[0;34m.\u001b[0m\u001b[0msample_column\u001b[0m\u001b[0;34m.\u001b[0m\u001b[0mprogress_apply\u001b[0m\u001b[0;34m(\u001b[0m\u001b[0mfunction_to_apply\u001b[0m\u001b[0;34m)\u001b[0m\u001b[0;34m\u001b[0m\u001b[0;34m\u001b[0m\u001b[0m\n",
            "\u001b[0;31mKeyError\u001b[0m: 0"
          ]
        }
      ]
    },
    {
      "cell_type": "code",
      "metadata": {
        "colab": {
          "base_uri": "https://localhost:8080/"
        },
        "id": "OfbogvckfuLK",
        "outputId": "cf16f8ad-199a-4ce6-8a38-93d018772cdf"
      },
      "source": [
        "df[\"sample-word\"] = df.sample_column.parallel_apply(function_to_apply)\r\n",
        "import collections \r\n",
        "import multiprocessing"
      ],
      "execution_count": 8,
      "outputs": [
        {
          "output_type": "stream",
          "text": [
            "   0.00%                                          |        0 /       50 |      \n",
            "   0.00%                                          |        0 /       50 |      \b\b\b\b\b\b\b\b\b\b\b\b\b\b\b\b\b\b\b\b\b\b\b\b\b\b\b\b\b\b\b\b\b\b\b\b\b\b\b\b\b\b\b\b\b\b\b\b\b\b\b\b\b\b\b\b\b\b\b\b\b\b\b\b\b\b\b\b\b\b\b\b\b\b\b\b\b\b\b\u001bM   2.00%                                          |        1 /       50 |      \n",
            "   0.00%                                          |        0 /       50 |      \b\b\b\b\b\b\b\b\b\b\b\b\b\b\b\b\b\b\b\b\b\b\b\b\b\b\b\b\b\b\b\b\b\b\b\b\b\b\b\b\b\b\b\b\b\b\b\b\b\b\b\b\b\b\b\b\b\b\b\b\b\b\b\b\b\b\b\b\b\b\b\b\b\b\b\b\b\b\b\u001bM   4.00% :                                        |        2 /       50 |      \n",
            "   2.00%                                          |        1 /       50 |      \b\b\b\b\b\b\b\b\b\b\b\b\b\b\b\b\b\b\b\b\b\b\b\b\b\b\b\b\b\b\b\b\b\b\b\b\b\b\b\b\b\b\b\b\b\b\b\b\b\b\b\b\b\b\b\b\b\b\b\b\b\b\b\b\b\b\b\b\b\b\b\b\b\b\b\b\b\b\b\u001bM   4.00% :                                        |        2 /       50 |      \n",
            "   6.00% ::                                       |        3 /       50 |      \b\b\b\b\b\b\b\b\b\b\b\b\b\b\b\b\b\b\b\b\b\b\b\b\b\b\b\b\b\b\b\b\b\b\b\b\b\b\b\b\b\b\b\b\b\b\b\b\b\b\b\b\b\b\b\b\b\b\b\b\b\b\b\b\b\b\b\b\b\b\b\b\b\b\b\b\b\b\b\u001bM   8.00% :::                                      |        4 /       50 |      \n",
            "   8.00% :::                                      |        4 /       50 |      \b\b\b\b\b\b\b\b\b\b\b\b\b\b\b\b\b\b\b\b\b\b\b\b\b\b\b\b\b\b\b\b\b\b\b\b\b\b\b\b\b\b\b\b\b\b\b\b\b\b\b\b\b\b\b\b\b\b\b\b\b\b\b\b\b\b\b\b\b\b\b\b\b\b\b\b\b\b\b\u001bM  10.00% ::::                                     |        5 /       50 |      \n",
            "  10.00% ::::                                     |        5 /       50 |      \b\b\b\b\b\b\b\b\b\b\b\b\b\b\b\b\b\b\b\b\b\b\b\b\b\b\b\b\b\b\b\b\b\b\b\b\b\b\b\b\b\b\b\b\b\b\b\b\b\b\b\b\b\b\b\b\b\b\b\b\b\b\b\b\b\b\b\b\b\b\b\b\b\b\b\b\b\b\b\u001bM  14.00% :::::                                    |        7 /       50 |      \n",
            "  12.00% ::::                                     |        6 /       50 |      \b\b\b\b\b\b\b\b\b\b\b\b\b\b\b\b\b\b\b\b\b\b\b\b\b\b\b\b\b\b\b\b\b\b\b\b\b\b\b\b\b\b\b\b\b\b\b\b\b\b\b\b\b\b\b\b\b\b\b\b\b\b\b\b\b\b\b\b\b\b\b\b\b\b\b\b\b\b\b\u001bM  14.00% :::::                                    |        7 /       50 |      \n",
            "  16.00% ::::::                                   |        8 /       50 |      \b\b\b\b\b\b\b\b\b\b\b\b\b\b\b\b\b\b\b\b\b\b\b\b\b\b\b\b\b\b\b\b\b\b\b\b\b\b\b\b\b\b\b\b\b\b\b\b\b\b\b\b\b\b\b\b\b\b\b\b\b\b\b\b\b\b\b\b\b\b\b\b\b\b\b\b\b\b\b\u001bM  20.00% ::::::::                                 |       10 /       50 |      \n",
            "  16.00% ::::::                                   |        8 /       50 |      \b\b\b\b\b\b\b\b\b\b\b\b\b\b\b\b\b\b\b\b\b\b\b\b\b\b\b\b\b\b\b\b\b\b\b\b\b\b\b\b\b\b\b\b\b\b\b\b\b\b\b\b\b\b\b\b\b\b\b\b\b\b\b\b\b\b\b\b\b\b\b\b\b\b\b\b\b\b\b\u001bM  20.00% ::::::::                                 |       10 /       50 |      \n",
            "  22.00% ::::::::                                 |       11 /       50 |      \b\b\b\b\b\b\b\b\b\b\b\b\b\b\b\b\b\b\b\b\b\b\b\b\b\b\b\b\b\b\b\b\b\b\b\b\b\b\b\b\b\b\b\b\b\b\b\b\b\b\b\b\b\b\b\b\b\b\b\b\b\b\b\b\b\b\b\b\b\b\b\b\b\b\b\b\b\b\b\u001bM  24.00% :::::::::                                |       12 /       50 |      \n",
            "  24.00% :::::::::                                |       12 /       50 |      \b\b\b\b\b\b\b\b\b\b\b\b\b\b\b\b\b\b\b\b\b\b\b\b\b\b\b\b\b\b\b\b\b\b\b\b\b\b\b\b\b\b\b\b\b\b\b\b\b\b\b\b\b\b\b\b\b\b\b\b\b\b\b\b\b\b\b\b\b\b\b\b\b\b\b\b\b\b\b\u001bM  26.00% ::::::::::                               |       13 /       50 |      \n",
            "  26.00% ::::::::::                               |       13 /       50 |      \b\b\b\b\b\b\b\b\b\b\b\b\b\b\b\b\b\b\b\b\b\b\b\b\b\b\b\b\b\b\b\b\b\b\b\b\b\b\b\b\b\b\b\b\b\b\b\b\b\b\b\b\b\b\b\b\b\b\b\b\b\b\b\b\b\b\b\b\b\b\b\b\b\b\b\b\b\b\b\u001bM  28.00% :::::::::::                              |       14 /       50 |      \n",
            "  28.00% :::::::::::                              |       14 /       50 |      \b\b\b\b\b\b\b\b\b\b\b\b\b\b\b\b\b\b\b\b\b\b\b\b\b\b\b\b\b\b\b\b\b\b\b\b\b\b\b\b\b\b\b\b\b\b\b\b\b\b\b\b\b\b\b\b\b\b\b\b\b\b\b\b\b\b\b\b\b\b\b\b\b\b\b\b\b\b\b\u001bM  30.00% ::::::::::::                             |       15 /       50 |      \n",
            "  30.00% ::::::::::::                             |       15 /       50 |      \b\b\b\b\b\b\b\b\b\b\b\b\b\b\b\b\b\b\b\b\b\b\b\b\b\b\b\b\b\b\b\b\b\b\b\b\b\b\b\b\b\b\b\b\b\b\b\b\b\b\b\b\b\b\b\b\b\b\b\b\b\b\b\b\b\b\b\b\b\b\b\b\b\b\b\b\b\b\b\u001bM  32.00% ::::::::::::                             |       16 /       50 |      \n",
            "  32.00% ::::::::::::                             |       16 /       50 |      \b\b\b\b\b\b\b\b\b\b\b\b\b\b\b\b\b\b\b\b\b\b\b\b\b\b\b\b\b\b\b\b\b\b\b\b\b\b\b\b\b\b\b\b\b\b\b\b\b\b\b\b\b\b\b\b\b\b\b\b\b\b\b\b\b\b\b\b\b\b\b\b\b\b\b\b\b\b\b\u001bM  34.00% :::::::::::::                            |       17 /       50 |      \n",
            "  34.00% :::::::::::::                            |       17 /       50 |      \b\b\b\b\b\b\b\b\b\b\b\b\b\b\b\b\b\b\b\b\b\b\b\b\b\b\b\b\b\b\b\b\b\b\b\b\b\b\b\b\b\b\b\b\b\b\b\b\b\b\b\b\b\b\b\b\b\b\b\b\b\b\b\b\b\b\b\b\b\b\b\b\b\b\b\b\b\b\b\u001bM  38.00% :::::::::::::::                          |       19 /       50 |      \n",
            "  36.00% ::::::::::::::                           |       18 /       50 |      \b\b\b\b\b\b\b\b\b\b\b\b\b\b\b\b\b\b\b\b\b\b\b\b\b\b\b\b\b\b\b\b\b\b\b\b\b\b\b\b\b\b\b\b\b\b\b\b\b\b\b\b\b\b\b\b\b\b\b\b\b\b\b\b\b\b\b\b\b\b\b\b\b\b\b\b\b\b\b\u001bM  40.00% ::::::::::::::::                         |       20 /       50 |      \n",
            "  38.00% :::::::::::::::                          |       19 /       50 |      \b\b\b\b\b\b\b\b\b\b\b\b\b\b\b\b\b\b\b\b\b\b\b\b\b\b\b\b\b\b\b\b\b\b\b\b\b\b\b\b\b\b\b\b\b\b\b\b\b\b\b\b\b\b\b\b\b\b\b\b\b\b\b\b\b\b\b\b\b\b\b\b\b\b\b\b\b\b\b\u001bM  42.00% ::::::::::::::::                         |       21 /       50 |      \n",
            "  40.00% ::::::::::::::::                         |       20 /       50 |      \b\b\b\b\b\b\b\b\b\b\b\b\b\b\b\b\b\b\b\b\b\b\b\b\b\b\b\b\b\b\b\b\b\b\b\b\b\b\b\b\b\b\b\b\b\b\b\b\b\b\b\b\b\b\b\b\b\b\b\b\b\b\b\b\b\b\b\b\b\b\b\b\b\b\b\b\b\b\b\u001bM  44.00% :::::::::::::::::                        |       22 /       50 |      \n",
            "  42.00% ::::::::::::::::                         |       21 /       50 |      \b\b\b\b\b\b\b\b\b\b\b\b\b\b\b\b\b\b\b\b\b\b\b\b\b\b\b\b\b\b\b\b\b\b\b\b\b\b\b\b\b\b\b\b\b\b\b\b\b\b\b\b\b\b\b\b\b\b\b\b\b\b\b\b\b\b\b\b\b\b\b\b\b\b\b\b\b\b\b\u001bM  46.00% ::::::::::::::::::                       |       23 /       50 |      \n",
            "  44.00% :::::::::::::::::                        |       22 /       50 |      \b\b\b\b\b\b\b\b\b\b\b\b\b\b\b\b\b\b\b\b\b\b\b\b\b\b\b\b\b\b\b\b\b\b\b\b\b\b\b\b\b\b\b\b\b\b\b\b\b\b\b\b\b\b\b\b\b\b\b\b\b\b\b\b\b\b\b\b\b\b\b\b\b\b\b\b\b\b\b\u001bM  48.00% :::::::::::::::::::                      |       24 /       50 |      \n",
            "  46.00% ::::::::::::::::::                       |       23 /       50 |      \b\b\b\b\b\b\b\b\b\b\b\b\b\b\b\b\b\b\b\b\b\b\b\b\b\b\b\b\b\b\b\b\b\b\b\b\b\b\b\b\b\b\b\b\b\b\b\b\b\b\b\b\b\b\b\b\b\b\b\b\b\b\b\b\b\b\b\b\b\b\b\b\b\b\b\b\b\b\b\u001bM  50.00% ::::::::::::::::::::                     |       25 /       50 |      \n",
            "  48.00% :::::::::::::::::::                      |       24 /       50 |      \b\b\b\b\b\b\b\b\b\b\b\b\b\b\b\b\b\b\b\b\b\b\b\b\b\b\b\b\b\b\b\b\b\b\b\b\b\b\b\b\b\b\b\b\b\b\b\b\b\b\b\b\b\b\b\b\b\b\b\b\b\b\b\b\b\b\b\b\b\b\b\b\b\b\b\b\b\b\b\u001bM  52.00% ::::::::::::::::::::                     |       26 /       50 |      \n",
            "  50.00% ::::::::::::::::::::                     |       25 /       50 |      \b\b\b\b\b\b\b\b\b\b\b\b\b\b\b\b\b\b\b\b\b\b\b\b\b\b\b\b\b\b\b\b\b\b\b\b\b\b\b\b\b\b\b\b\b\b\b\b\b\b\b\b\b\b\b\b\b\b\b\b\b\b\b\b\b\b\b\b\b\b\b\b\b\b\b\b\b\b\b\u001bM  54.00% :::::::::::::::::::::                    |       27 /       50 |      \n",
            "  52.00% ::::::::::::::::::::                     |       26 /       50 |      \b\b\b\b\b\b\b\b\b\b\b\b\b\b\b\b\b\b\b\b\b\b\b\b\b\b\b\b\b\b\b\b\b\b\b\b\b\b\b\b\b\b\b\b\b\b\b\b\b\b\b\b\b\b\b\b\b\b\b\b\b\b\b\b\b\b\b\b\b\b\b\b\b\b\b\b\b\b\b\u001bM  56.00% ::::::::::::::::::::::                   |       28 /       50 |      \n",
            "  54.00% :::::::::::::::::::::                    |       27 /       50 |      \b\b\b\b\b\b\b\b\b\b\b\b\b\b\b\b\b\b\b\b\b\b\b\b\b\b\b\b\b\b\b\b\b\b\b\b\b\b\b\b\b\b\b\b\b\b\b\b\b\b\b\b\b\b\b\b\b\b\b\b\b\b\b\b\b\b\b\b\b\b\b\b\b\b\b\b\b\b\b\u001bM  58.00% :::::::::::::::::::::::                  |       29 /       50 |      \n",
            "  56.00% ::::::::::::::::::::::                   |       28 /       50 |      \b\b\b\b\b\b\b\b\b\b\b\b\b\b\b\b\b\b\b\b\b\b\b\b\b\b\b\b\b\b\b\b\b\b\b\b\b\b\b\b\b\b\b\b\b\b\b\b\b\b\b\b\b\b\b\b\b\b\b\b\b\b\b\b\b\b\b\b\b\b\b\b\b\b\b\b\b\b\b\u001bM  60.00% ::::::::::::::::::::::::                 |       30 /       50 |      \n",
            "  58.00% :::::::::::::::::::::::                  |       29 /       50 |      \b\b\b\b\b\b\b\b\b\b\b\b\b\b\b\b\b\b\b\b\b\b\b\b\b\b\b\b\b\b\b\b\b\b\b\b\b\b\b\b\b\b\b\b\b\b\b\b\b\b\b\b\b\b\b\b\b\b\b\b\b\b\b\b\b\b\b\b\b\b\b\b\b\b\b\b\b\b\b\u001bM  62.00% ::::::::::::::::::::::::                 |       31 /       50 |      \n",
            "  60.00% ::::::::::::::::::::::::                 |       30 /       50 |      \b\b\b\b\b\b\b\b\b\b\b\b\b\b\b\b\b\b\b\b\b\b\b\b\b\b\b\b\b\b\b\b\b\b\b\b\b\b\b\b\b\b\b\b\b\b\b\b\b\b\b\b\b\b\b\b\b\b\b\b\b\b\b\b\b\b\b\b\b\b\b\b\b\b\b\b\b\b\b\u001bM  64.00% :::::::::::::::::::::::::                |       32 /       50 |      \n",
            "  62.00% ::::::::::::::::::::::::                 |       31 /       50 |      \b\b\b\b\b\b\b\b\b\b\b\b\b\b\b\b\b\b\b\b\b\b\b\b\b\b\b\b\b\b\b\b\b\b\b\b\b\b\b\b\b\b\b\b\b\b\b\b\b\b\b\b\b\b\b\b\b\b\b\b\b\b\b\b\b\b\b\b\b\b\b\b\b\b\b\b\b\b\b\u001bM  66.00% ::::::::::::::::::::::::::               |       33 /       50 |      \n",
            "  64.00% :::::::::::::::::::::::::                |       32 /       50 |      \b\b\b\b\b\b\b\b\b\b\b\b\b\b\b\b\b\b\b\b\b\b\b\b\b\b\b\b\b\b\b\b\b\b\b\b\b\b\b\b\b\b\b\b\b\b\b\b\b\b\b\b\b\b\b\b\b\b\b\b\b\b\b\b\b\b\b\b\b\b\b\b\b\b\b\b\b\b\b\u001bM  68.00% :::::::::::::::::::::::::::              |       34 /       50 |      \n",
            "  66.00% ::::::::::::::::::::::::::               |       33 /       50 |      \b\b\b\b\b\b\b\b\b\b\b\b\b\b\b\b\b\b\b\b\b\b\b\b\b\b\b\b\b\b\b\b\b\b\b\b\b\b\b\b\b\b\b\b\b\b\b\b\b\b\b\b\b\b\b\b\b\b\b\b\b\b\b\b\b\b\b\b\b\b\b\b\b\b\b\b\b\b\b\u001bM  70.00% ::::::::::::::::::::::::::::             |       35 /       50 |      \n",
            "  68.00% :::::::::::::::::::::::::::              |       34 /       50 |      \b\b\b\b\b\b\b\b\b\b\b\b\b\b\b\b\b\b\b\b\b\b\b\b\b\b\b\b\b\b\b\b\b\b\b\b\b\b\b\b\b\b\b\b\b\b\b\b\b\b\b\b\b\b\b\b\b\b\b\b\b\b\b\b\b\b\b\b\b\b\b\b\b\b\b\b\b\b\b\u001bM  72.00% ::::::::::::::::::::::::::::             |       36 /       50 |      \n",
            "  70.00% ::::::::::::::::::::::::::::             |       35 /       50 |      \b\b\b\b\b\b\b\b\b\b\b\b\b\b\b\b\b\b\b\b\b\b\b\b\b\b\b\b\b\b\b\b\b\b\b\b\b\b\b\b\b\b\b\b\b\b\b\b\b\b\b\b\b\b\b\b\b\b\b\b\b\b\b\b\b\b\b\b\b\b\b\b\b\b\b\b\b\b\b\u001bM  74.00% :::::::::::::::::::::::::::::            |       37 /       50 |      \n",
            "  72.00% ::::::::::::::::::::::::::::             |       36 /       50 |      \b\b\b\b\b\b\b\b\b\b\b\b\b\b\b\b\b\b\b\b\b\b\b\b\b\b\b\b\b\b\b\b\b\b\b\b\b\b\b\b\b\b\b\b\b\b\b\b\b\b\b\b\b\b\b\b\b\b\b\b\b\b\b\b\b\b\b\b\b\b\b\b\b\b\b\b\b\b\b\u001bM  76.00% ::::::::::::::::::::::::::::::           |       38 /       50 |      \n",
            "  74.00% :::::::::::::::::::::::::::::            |       37 /       50 |      \b\b\b\b\b\b\b\b\b\b\b\b\b\b\b\b\b\b\b\b\b\b\b\b\b\b\b\b\b\b\b\b\b\b\b\b\b\b\b\b\b\b\b\b\b\b\b\b\b\b\b\b\b\b\b\b\b\b\b\b\b\b\b\b\b\b\b\b\b\b\b\b\b\b\b\b\b\b\b\u001bM  78.00% :::::::::::::::::::::::::::::::          |       39 /       50 |      \n",
            "  76.00% ::::::::::::::::::::::::::::::           |       38 /       50 |      \b\b\b\b\b\b\b\b\b\b\b\b\b\b\b\b\b\b\b\b\b\b\b\b\b\b\b\b\b\b\b\b\b\b\b\b\b\b\b\b\b\b\b\b\b\b\b\b\b\b\b\b\b\b\b\b\b\b\b\b\b\b\b\b\b\b\b\b\b\b\b\b\b\b\b\b\b\b\b\u001bM  80.00% ::::::::::::::::::::::::::::::::         |       40 /       50 |      \n",
            "  78.00% :::::::::::::::::::::::::::::::          |       39 /       50 |      \b\b\b\b\b\b\b\b\b\b\b\b\b\b\b\b\b\b\b\b\b\b\b\b\b\b\b\b\b\b\b\b\b\b\b\b\b\b\b\b\b\b\b\b\b\b\b\b\b\b\b\b\b\b\b\b\b\b\b\b\b\b\b\b\b\b\b\b\b\b\b\b\b\b\b\b\b\b\b\u001bM  82.00% ::::::::::::::::::::::::::::::::         |       41 /       50 |      \n",
            "  80.00% ::::::::::::::::::::::::::::::::         |       40 /       50 |      \b\b\b\b\b\b\b\b\b\b\b\b\b\b\b\b\b\b\b\b\b\b\b\b\b\b\b\b\b\b\b\b\b\b\b\b\b\b\b\b\b\b\b\b\b\b\b\b\b\b\b\b\b\b\b\b\b\b\b\b\b\b\b\b\b\b\b\b\b\b\b\b\b\b\b\b\b\b\b\u001bM  86.00% ::::::::::::::::::::::::::::::::::       |       43 /       50 |      \n",
            "  82.00% ::::::::::::::::::::::::::::::::         |       41 /       50 |      \b\b\b\b\b\b\b\b\b\b\b\b\b\b\b\b\b\b\b\b\b\b\b\b\b\b\b\b\b\b\b\b\b\b\b\b\b\b\b\b\b\b\b\b\b\b\b\b\b\b\b\b\b\b\b\b\b\b\b\b\b\b\b\b\b\b\b\b\b\b\b\b\b\b\b\b\b\b\b\u001bM  88.00% :::::::::::::::::::::::::::::::::::      |       44 /       50 |      \n",
            "  84.00% :::::::::::::::::::::::::::::::::        |       42 /       50 |      \b\b\b\b\b\b\b\b\b\b\b\b\b\b\b\b\b\b\b\b\b\b\b\b\b\b\b\b\b\b\b\b\b\b\b\b\b\b\b\b\b\b\b\b\b\b\b\b\b\b\b\b\b\b\b\b\b\b\b\b\b\b\b\b\b\b\b\b\b\b\b\b\b\b\b\b\b\b\b\u001bM  90.00% ::::::::::::::::::::::::::::::::::::     |       45 /       50 |      \n",
            "  88.00% :::::::::::::::::::::::::::::::::::      |       44 /       50 |      \b\b\b\b\b\b\b\b\b\b\b\b\b\b\b\b\b\b\b\b\b\b\b\b\b\b\b\b\b\b\b\b\b\b\b\b\b\b\b\b\b\b\b\b\b\b\b\b\b\b\b\b\b\b\b\b\b\b\b\b\b\b\b\b\b\b\b\b\b\b\b\b\b\b\b\b\b\b\b\u001bM  92.00% ::::::::::::::::::::::::::::::::::::     |       46 /       50 |      \n",
            "  90.00% ::::::::::::::::::::::::::::::::::::     |       45 /       50 |      \b\b\b\b\b\b\b\b\b\b\b\b\b\b\b\b\b\b\b\b\b\b\b\b\b\b\b\b\b\b\b\b\b\b\b\b\b\b\b\b\b\b\b\b\b\b\b\b\b\b\b\b\b\b\b\b\b\b\b\b\b\b\b\b\b\b\b\b\b\b\b\b\b\b\b\b\b\b\b\u001bM  96.00% ::::::::::::::::::::::::::::::::::::::   |       48 /       50 |      \n",
            "  92.00% ::::::::::::::::::::::::::::::::::::     |       46 /       50 |      \b\b\b\b\b\b\b\b\b\b\b\b\b\b\b\b\b\b\b\b\b\b\b\b\b\b\b\b\b\b\b\b\b\b\b\b\b\b\b\b\b\b\b\b\b\b\b\b\b\b\b\b\b\b\b\b\b\b\b\b\b\b\b\b\b\b\b\b\b\b\b\b\b\b\b\b\b\b\b\u001bM  98.00% :::::::::::::::::::::::::::::::::::::::  |       49 /       50 |      \n",
            "  94.00% :::::::::::::::::::::::::::::::::::::    |       47 /       50 |      \b\b\b\b\b\b\b\b\b\b\b\b\b\b\b\b\b\b\b\b\b\b\b\b\b\b\b\b\b\b\b\b\b\b\b\b\b\b\b\b\b\b\b\b\b\b\b\b\b\b\b\b\b\b\b\b\b\b\b\b\b\b\b\b\b\b\b\b\b\b\b\b\b\b\b\b\b\b\b\u001bM 100.00% :::::::::::::::::::::::::::::::::::::::: |       50 /       50 |      \n",
            "  96.00% ::::::::::::::::::::::::::::::::::::::   |       48 /       50 |      \b\b\b\b\b\b\b\b\b\b\b\b\b\b\b\b\b\b\b\b\b\b\b\b\b\b\b\b\b\b\b\b\b\b\b\b\b\b\b\b\b\b\b\b\b\b\b\b\b\b\b\b\b\b\b\b\b\b\b\b\b\b\b\b\b\b\b\b\b\b\b\b\b\b\b\b\b\b\b\u001bM 100.00% :::::::::::::::::::::::::::::::::::::::: |       50 /       50 |      \n",
            "  98.00% :::::::::::::::::::::::::::::::::::::::  |       49 /       50 |      \b\b\b\b\b\b\b\b\b\b\b\b\b\b\b\b\b\b\b\b\b\b\b\b\b\b\b\b\b\b\b\b\b\b\b\b\b\b\b\b\b\b\b\b\b\b\b\b\b\b\b\b\b\b\b\b\b\b\b\b\b\b\b\b\b\b\b\b\b\b\b\b\b\b\b\b\b\b\b\u001bM 100.00% :::::::::::::::::::::::::::::::::::::::: |       50 /       50 |      \n",
            " 100.00% :::::::::::::::::::::::::::::::::::::::: |       50 /       50 |      "
          ],
          "name": "stdout"
        }
      ]
    },
    {
      "cell_type": "code",
      "metadata": {
        "id": "12UHTiRZf3iq"
      },
      "source": [
        "Scientist = collections.namedtuple('Scientist', [   'name',   'born',])\r\n",
        "\r\n",
        "scientists = (Scientist(name='Ada Lovelace', born=1815),\r\n",
        "                    Scientist(name='Emmy Noether', born=1882),\r\n",
        "                    Scientist(name='Marie Curie', born=1867),\r\n",
        "                    Scientist(name='Tu Youyou', born=1930),\r\n",
        "                    Scientist(name='Ada Yonath', born=1939),\r\n",
        "                    Scientist(name='Vera Rubin', born=1928),\r\n",
        "                    Scientist(name='Sally Ride', born=1951),)\r\n",
        "def process_item(item):\r\n",
        "     return {'name': item.name, 'age': 2200 - item.born   }\r\n"
      ],
      "execution_count": 9,
      "outputs": []
    },
    {
      "cell_type": "code",
      "metadata": {
        "colab": {
          "base_uri": "https://localhost:8080/"
        },
        "id": "TDGQl6lOf9w-",
        "outputId": "82eaf170-3b51-435a-fef9-94da0f6fe9fa"
      },
      "source": [
        "pool = multiprocessing.Pool()\r\n",
        "result = pool.map(process_item, scientists)\r\n",
        "print(tuple(result))"
      ],
      "execution_count": 10,
      "outputs": [
        {
          "output_type": "stream",
          "text": [
            "({'name': 'Ada Lovelace', 'age': 385}, {'name': 'Emmy Noether', 'age': 318}, {'name': 'Marie Curie', 'age': 333}, {'name': 'Tu Youyou', 'age': 270}, {'name': 'Ada Yonath', 'age': 261}, {'name': 'Vera Rubin', 'age': 272}, {'name': 'Sally Ride', 'age': 249})\n"
          ],
          "name": "stdout"
        }
      ]
    }
  ]
}